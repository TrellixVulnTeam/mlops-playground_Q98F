{
 "cells": [
  {
   "cell_type": "code",
   "execution_count": 1,
   "metadata": {},
   "outputs": [],
   "source": [
    "%load_ext autoreload\n",
    "%autoreload 2"
   ]
  },
  {
   "cell_type": "code",
   "execution_count": 2,
   "metadata": {},
   "outputs": [],
   "source": [
    "import os\n",
    "import json\n",
    "import pprint\n",
    "import warnings\n",
    "import boto3\n",
    "import sagemaker\n",
    "import pandas as pd\n",
    "from sagemaker.estimator import Estimator\n",
    "from sagemaker.inputs import CreateModelInput, TrainingInput, TransformInput\n",
    "from sagemaker.lineage.visualizer import LineageTableVisualizer\n",
    "from sagemaker.model import Model\n",
    "from sagemaker.model_metrics import MetricsSource, ModelMetrics\n",
    "from sagemaker.processing import ProcessingInput, ProcessingOutput\n",
    "from sagemaker.sklearn.processing import ScriptProcessor, SKLearnProcessor\n",
    "from sagemaker.transformer import Transformer\n",
    "from sagemaker.workflow.condition_step import ConditionStep, JsonGet\n",
    "from sagemaker.workflow.conditions import ConditionGreaterThanOrEqualTo, ConditionLessThanOrEqualTo\n",
    "from sagemaker.workflow.parameters import ParameterInteger, ParameterString\n",
    "from sagemaker.workflow.properties import PropertyFile\n",
    "from sagemaker.workflow.step_collections import RegisterModel\n",
    "from sagemaker.workflow.steps import CacheConfig, CreateModelStep, ProcessingStep, TrainingStep, TransformStep\n",
    "from sagemaker.workflow.pipeline import Pipeline\n",
    "warnings.filterwarnings(action='ignore')"
   ]
  },
  {
   "cell_type": "code",
   "execution_count": 3,
   "metadata": {},
   "outputs": [],
   "source": [
    "RAW_DATA_PATH = '../../Data/ieee-fraud-detection'\n",
    "\n",
    "sagemaker_session = sagemaker.session.Session()\n",
    "BUCKET = sagemaker_session.default_bucket()\n",
    "BASE_JOB_PREFIX = 'ieee-fraud-detection'\n",
    "MODEL_PACKAGE_GROUP_NAME = 'ieee-fraud-detection'\n",
    "PIPELINE_NAME = 'ieee-fraud-detection-pipeline'\n",
    "\n",
    "region = boto3.Session().region_name\n",
    "role = 'arn:aws:iam::998601677581:role/service-role/AmazonSageMaker-ExecutionRole-20210114T163887' # sagemaker.get_execution_role()"
   ]
  },
  {
   "cell_type": "code",
   "execution_count": 4,
   "metadata": {},
   "outputs": [],
   "source": [
    "# %%time\n",
    "# !aws s3 cp {RAW_DATA_PATH}/train_identity.csv s3://{BUCKET}/{BASE_JOB_PREFIX}/raw_data/training/train_identity.csv  --quiet\n",
    "# !aws s3 cp {RAW_DATA_PATH}/train_transaction.csv s3://{BUCKET}/{BASE_JOB_PREFIX}/raw_data/training/train_transaction.csv --quiet\n",
    "# !aws s3 cp {RAW_DATA_PATH}/test_identity.csv s3://{BUCKET}/{BASE_JOB_PREFIX}/raw_data/prediction/test_identity.csv --quiet \n",
    "# !aws s3 cp {RAW_DATA_PATH}/test_transaction.csv s3://{BUCKET}/{BASE_JOB_PREFIX}/raw_data/prediction/test_transaction.csv --quiet"
   ]
  },
  {
   "cell_type": "code",
   "execution_count": 5,
   "metadata": {},
   "outputs": [],
   "source": [
    "training_data_uri = f's3://{BUCKET}/{BASE_JOB_PREFIX}/raw_data/training'\n",
    "prediction_data_uri = f's3://{BUCKET}/{BASE_JOB_PREFIX}/raw_data/prediction'\n",
    "\n",
    "processing_instance_count = ParameterInteger(\n",
    "    name='ProcessingInstanceCount',\n",
    "    default_value=1\n",
    ")\n",
    "processing_instance_type = ParameterString(\n",
    "    name='ProcessingInstanceType',\n",
    "    default_value='ml.m5.2xlarge'\n",
    ")\n",
    "training_data = ParameterString(\n",
    "    name='TrainingData',\n",
    "    default_value=training_data_uri\n",
    ")\n",
    "training_instance_type = ParameterString(\n",
    "    name='TrainingInstanceType',\n",
    "    default_value='ml.m5.2xlarge'\n",
    ")\n",
    "prediction_data = ParameterString(\n",
    "    name='PredictionData',\n",
    "    default_value=prediction_data_uri,\n",
    ")\n",
    "model_approval_status = ParameterString(\n",
    "    name='ModelApprovalStatus',\n",
    "    default_value='PendingManualApproval'\n",
    ")\n",
    "\n",
    "cache_config = CacheConfig(enable_caching=True, expire_after='PT1H')"
   ]
  },
  {
   "cell_type": "code",
   "execution_count": 6,
   "metadata": {},
   "outputs": [],
   "source": [
    "sklearn_processor = SKLearnProcessor(\n",
    "    framework_version='0.23-1',\n",
    "    role=role,\n",
    "    instance_type=processing_instance_type,\n",
    "    instance_count=processing_instance_count,\n",
    "    base_job_name=f'{BASE_JOB_PREFIX}-sklearn-processing'\n",
    ")\n",
    "\n",
    "step_preprocess = ProcessingStep(\n",
    "    name='PreprocessData',\n",
    "    processor=sklearn_processor,\n",
    "    inputs=[\n",
    "      ProcessingInput(source=training_data, destination='/opt/ml/processing/training') \n",
    "    ],\n",
    "    outputs=[\n",
    "        ProcessingOutput(source='/opt/ml/processing/train', output_name='train'),\n",
    "        ProcessingOutput(source='/opt/ml/processing/valid', output_name='valid'),\n",
    "        ProcessingOutput(source='/opt/ml/processing/test', output_name='test')\n",
    "    ],\n",
    "    code='scripts/preprocessing.py',\n",
    "    cache_config=cache_config\n",
    ")"
   ]
  },
  {
   "cell_type": "code",
   "execution_count": 7,
   "metadata": {},
   "outputs": [],
   "source": [
    "model_output_uri = f's3://{BUCKET}/{BASE_JOB_PREFIX}/models'\n",
    "image_uri = sagemaker.image_uris.retrieve(\n",
    "    framework='xgboost',\n",
    "    region=region,\n",
    "    version='1.2-1',\n",
    "    py_version='py3',\n",
    "    instance_type=training_instance_type\n",
    ")\n",
    "\n",
    "estimator = Estimator(\n",
    "    image_uri=image_uri,\n",
    "    role=role,\n",
    "    instance_count=1,\n",
    "    instance_type=training_instance_type,\n",
    "    output_path=model_output_uri,\n",
    "    use_spot_instances=False,\n",
    "    max_wait=None\n",
    ")\n",
    "params = {\n",
    "    'booster': 'gbtree',\n",
    "    'verbosity': 0,\n",
    "    'objective': 'binary:logistic',\n",
    "    'seed': 42,\n",
    "    'max_depth': 6,\n",
    "    'eta': 0.3,\n",
    "    'gamma': 0.0,\n",
    "    'min_child_weight': 1.0,\n",
    "    'subsample': 1.0,\n",
    "    'colsample_bytree': 1.0,\n",
    "    'scale_pos_weight': 1.0,\n",
    "    'eval_metric': 'auc',\n",
    "    'num_round': 1000,\n",
    "    'early_stopping_rounds': 10\n",
    "}\n",
    "estimator.set_hyperparameters(**params)"
   ]
  },
  {
   "cell_type": "code",
   "execution_count": 8,
   "metadata": {},
   "outputs": [],
   "source": [
    "step_train = TrainingStep(\n",
    "    name='TrainModel',\n",
    "    estimator=estimator,\n",
    "    inputs={\n",
    "        'train': TrainingInput(\n",
    "            s3_data=step_preprocess.properties.ProcessingOutputConfig.Outputs['train'].S3Output.S3Uri,\n",
    "            content_type='text/csv'\n",
    "        ),\n",
    "        'validation': TrainingInput(\n",
    "            s3_data=step_preprocess.properties.ProcessingOutputConfig.Outputs['valid'].S3Output.S3Uri,\n",
    "            content_type='text/csv'\n",
    "        )\n",
    "    },\n",
    "    cache_config=cache_config\n",
    ")"
   ]
  },
  {
   "cell_type": "code",
   "execution_count": 9,
   "metadata": {},
   "outputs": [],
   "source": [
    "script_processor = ScriptProcessor(\n",
    "    role=role,\n",
    "    image_uri=image_uri,\n",
    "    command=['python3'],\n",
    "    instance_count=1,\n",
    "    instance_type=processing_instance_type,\n",
    "    base_job_name=f'{BASE_JOB_PREFIX}-script-processing'\n",
    ")\n",
    "evaluation = PropertyFile(\n",
    "    name='ModelEvaluation',\n",
    "    output_name='evaluation',\n",
    "    path='eval_metrics.json'\n",
    ")\n",
    "\n",
    "step_evaluate = ProcessingStep(\n",
    "    name='EvaluateModel',\n",
    "    processor=script_processor,\n",
    "    inputs=[\n",
    "        ProcessingInput(\n",
    "            source=step_train.properties.ModelArtifacts.S3ModelArtifacts,\n",
    "            destination='/opt/ml/processing/models'\n",
    "        ),\n",
    "        ProcessingInput(\n",
    "            source=step_preprocess.properties.ProcessingOutputConfig.Outputs['test'].S3Output.S3Uri,\n",
    "            destination='/opt/ml/processing/test'\n",
    "        )\n",
    "    ],\n",
    "    outputs=[\n",
    "        ProcessingOutput(source='/opt/ml/processing/eval', output_name='evaluation')\n",
    "    ],\n",
    "    code='scripts/evaluation.py',\n",
    "    property_files=[evaluation],\n",
    "    cache_config=cache_config\n",
    ")"
   ]
  },
  {
   "cell_type": "code",
   "execution_count": 10,
   "metadata": {},
   "outputs": [],
   "source": [
    "sklearn_reprocessor = SKLearnProcessor(\n",
    "    framework_version='0.23-1',\n",
    "    role=role,\n",
    "    instance_type=processing_instance_type,\n",
    "    instance_count=processing_instance_count,\n",
    "    base_job_name=f'{BASE_JOB_PREFIX}-sklearn-reprocessing'\n",
    ")\n",
    "\n",
    "step_repreprocess = ProcessingStep(\n",
    "    name='RepreprocessData',\n",
    "    processor=sklearn_reprocessor,\n",
    "    inputs=[\n",
    "        ProcessingInput(source=training_data, destination='/opt/ml/processing/training'),  \n",
    "        ProcessingInput(source=prediction_data, destination='/opt/ml/processing/prediction')\n",
    "    ],\n",
    "    outputs=[\n",
    "        ProcessingOutput(source='/opt/ml/processing/retrain', output_name='retrain'),\n",
    "        ProcessingOutput(source='/opt/ml/processing/revalid', output_name='revalid'),\n",
    "        ProcessingOutput(source='/opt/ml/processing/retest', output_name='retest')\n",
    "    ],\n",
    "    code='scripts/repreprocessing.py',\n",
    "    cache_config=cache_config\n",
    ")"
   ]
  },
  {
   "cell_type": "code",
   "execution_count": 11,
   "metadata": {},
   "outputs": [],
   "source": [
    "full_estimator = Estimator(\n",
    "    image_uri=image_uri,\n",
    "    role=role,\n",
    "    instance_count=1,\n",
    "    instance_type=training_instance_type,\n",
    "    output_path=model_output_uri,\n",
    "    use_spot_instances=False,\n",
    "    max_wait=None\n",
    ")\n",
    "full_estimator.set_hyperparameters(**params)\n",
    "\n",
    "step_retrain = TrainingStep(\n",
    "    name='RetrainModel',\n",
    "    estimator=full_estimator,\n",
    "    inputs={\n",
    "        'train': TrainingInput(\n",
    "            s3_data=step_repreprocess.properties.ProcessingOutputConfig.Outputs['retrain'].S3Output.S3Uri,\n",
    "            content_type='text/csv'\n",
    "        ),\n",
    "        'validation': TrainingInput(\n",
    "            s3_data=step_repreprocess.properties.ProcessingOutputConfig.Outputs['revalid'].S3Output.S3Uri,\n",
    "            content_type='text/csv'\n",
    "        )\n",
    "    },\n",
    "    cache_config=cache_config\n",
    ")"
   ]
  },
  {
   "cell_type": "code",
   "execution_count": 12,
   "metadata": {},
   "outputs": [],
   "source": [
    "model_metrics = ModelMetrics(\n",
    "    model_statistics=MetricsSource(\n",
    "        content_type='application/json',\n",
    "        s3_uri='{}/eval_metrics.json'.format(\n",
    "            step_evaluate.arguments['ProcessingOutputConfig']['Outputs'][0]['S3Output']['S3Uri']\n",
    "        )\n",
    "    )\n",
    ")\n",
    "\n",
    "step_register = RegisterModel(\n",
    "    name='RegisterModel',\n",
    "    estimator=full_estimator,\n",
    "    model_data=step_retrain.properties.ModelArtifacts.S3ModelArtifacts,\n",
    "    content_types=['text/csv'],\n",
    "    response_types=['text/csv'],\n",
    "    inference_instances=['ml.t2.medium', 'ml.m5.2xlarge'],\n",
    "    transform_instances=['ml.m5.2xlarge'],\n",
    "    model_package_group_name=MODEL_PACKAGE_GROUP_NAME,\n",
    "    model_metrics=model_metrics,\n",
    "    approval_status=model_approval_status\n",
    ")"
   ]
  },
  {
   "cell_type": "code",
   "execution_count": 13,
   "metadata": {},
   "outputs": [],
   "source": [
    "model = Model(\n",
    "    image_uri=image_uri,\n",
    "    model_data=step_retrain.properties.ModelArtifacts.S3ModelArtifacts,\n",
    "    role=role,\n",
    "    sagemaker_session=sagemaker_session\n",
    ")\n",
    "\n",
    "step_deploy = CreateModelStep(\n",
    "    name='DeployModel',\n",
    "    model=model,\n",
    "    inputs=CreateModelInput(\n",
    "        instance_type='ml.m5.2xlarge',\n",
    "        accelerator_type='ml.eia2.medium'\n",
    "    )\n",
    ")"
   ]
  },
  {
   "cell_type": "code",
   "execution_count": 14,
   "metadata": {},
   "outputs": [],
   "source": [
    "full_transformer = Transformer(\n",
    "    model_name=step_deploy.properties.ModelName,\n",
    "    instance_count=1,\n",
    "    instance_type='ml.m5.2xlarge',\n",
    "    output_path=f's3://{BUCKET}/{BASE_JOB_PREFIX}/pred'\n",
    ")\n",
    "\n",
    "step_predict = TransformStep(\n",
    "    name='PredictData',\n",
    "    transformer=full_transformer,\n",
    "    inputs=TransformInput(\n",
    "        data=step_repreprocess.properties.ProcessingOutputConfig.Outputs['retest'].S3Output.S3Uri,    \n",
    "        content_type='text/csv', \n",
    "        split_type='Line'\n",
    "    ),\n",
    "    cache_config=cache_config\n",
    ")"
   ]
  },
  {
   "cell_type": "code",
   "execution_count": 15,
   "metadata": {},
   "outputs": [],
   "source": [
    "target_metric = 'auroc'\n",
    "target_value = 0.9\n",
    "target_minimize = False\n",
    "\n",
    "step = ConditionLessThanOrEqualTo if target_minimize else ConditionGreaterThanOrEqualTo\n",
    "condition = step(\n",
    "    left=JsonGet(\n",
    "        step=step_evaluate,\n",
    "        property_file=evaluation,\n",
    "        json_path=f'eval_metric.{target_metric}'\n",
    "    ),\n",
    "    right=target_value\n",
    ")\n",
    "\n",
    "step_check = ConditionStep(\n",
    "    name='CheckCondition',\n",
    "    conditions=[condition],\n",
    "    if_steps=[step_repreprocess, step_retrain, step_register, step_deploy, step_predict],\n",
    "    else_steps=[]\n",
    ")"
   ]
  },
  {
   "cell_type": "code",
   "execution_count": 16,
   "metadata": {},
   "outputs": [],
   "source": [
    "pipeline = Pipeline(\n",
    "    name=PIPELINE_NAME,\n",
    "    parameters=[\n",
    "        processing_instance_count,\n",
    "        processing_instance_type, \n",
    "        training_data,\n",
    "        training_instance_type,\n",
    "        prediction_data,\n",
    "        model_approval_status\n",
    "    ],\n",
    "    steps=[step_preprocess, step_train, step_evaluate, step_check]\n",
    ")"
   ]
  },
  {
   "cell_type": "code",
   "execution_count": 17,
   "metadata": {},
   "outputs": [
    {
     "name": "stderr",
     "output_type": "stream",
     "text": [
      "No finished training job found associated with this estimator. Please make sure this estimator is only used for building workflow config\n"
     ]
    }
   ],
   "source": [
    "definition = json.loads(pipeline.definition())\n",
    "# pprint.pprint(definition)"
   ]
  },
  {
   "cell_type": "code",
   "execution_count": 18,
   "metadata": {},
   "outputs": [
    {
     "name": "stderr",
     "output_type": "stream",
     "text": [
      "No finished training job found associated with this estimator. Please make sure this estimator is only used for building workflow config\n",
      "No finished training job found associated with this estimator. Please make sure this estimator is only used for building workflow config\n"
     ]
    }
   ],
   "source": [
    "_ = pipeline.upsert(role_arn=role)\n",
    "execution = pipeline.start()\n",
    "description = execution.describe()\n",
    "# pprint.pprint(description)"
   ]
  },
  {
   "cell_type": "code",
   "execution_count": 19,
   "metadata": {},
   "outputs": [
    {
     "ename": "WaiterError",
     "evalue": "Waiter PipelineExecutionComplete failed: Max attempts exceeded",
     "output_type": "error",
     "traceback": [
      "\u001b[0;31m---------------------------------------------------------------------------\u001b[0m",
      "\u001b[0;31mWaiterError\u001b[0m                               Traceback (most recent call last)",
      "\u001b[0;32m<ipython-input-19-72be0c8b7085>\u001b[0m in \u001b[0;36m<module>\u001b[0;34m\u001b[0m\n\u001b[0;32m----> 1\u001b[0;31m \u001b[0mexecution\u001b[0m\u001b[0;34m.\u001b[0m\u001b[0mwait\u001b[0m\u001b[0;34m(\u001b[0m\u001b[0;34m)\u001b[0m\u001b[0;34m\u001b[0m\u001b[0;34m\u001b[0m\u001b[0m\n\u001b[0m",
      "\u001b[0;32m/opt/anaconda3/envs/sagemaker-pipelines/lib/python3.8/site-packages/sagemaker/workflow/pipeline.py\u001b[0m in \u001b[0;36mwait\u001b[0;34m(self, delay, max_attempts)\u001b[0m\n\u001b[1;32m    364\u001b[0m             \u001b[0mwaiter_id\u001b[0m\u001b[0;34m,\u001b[0m \u001b[0mmodel\u001b[0m\u001b[0;34m,\u001b[0m \u001b[0mself\u001b[0m\u001b[0;34m.\u001b[0m\u001b[0msagemaker_session\u001b[0m\u001b[0;34m.\u001b[0m\u001b[0msagemaker_client\u001b[0m\u001b[0;34m\u001b[0m\u001b[0;34m\u001b[0m\u001b[0m\n\u001b[1;32m    365\u001b[0m         )\n\u001b[0;32m--> 366\u001b[0;31m         \u001b[0mwaiter\u001b[0m\u001b[0;34m.\u001b[0m\u001b[0mwait\u001b[0m\u001b[0;34m(\u001b[0m\u001b[0mPipelineExecutionArn\u001b[0m\u001b[0;34m=\u001b[0m\u001b[0mself\u001b[0m\u001b[0;34m.\u001b[0m\u001b[0marn\u001b[0m\u001b[0;34m)\u001b[0m\u001b[0;34m\u001b[0m\u001b[0;34m\u001b[0m\u001b[0m\n\u001b[0m",
      "\u001b[0;32m/opt/anaconda3/envs/sagemaker-pipelines/lib/python3.8/site-packages/botocore/waiter.py\u001b[0m in \u001b[0;36mwait\u001b[0;34m(self, **kwargs)\u001b[0m\n\u001b[1;32m     51\u001b[0m     \u001b[0;31m# method.\u001b[0m\u001b[0;34m\u001b[0m\u001b[0;34m\u001b[0m\u001b[0;34m\u001b[0m\u001b[0m\n\u001b[1;32m     52\u001b[0m     \u001b[0;32mdef\u001b[0m \u001b[0mwait\u001b[0m\u001b[0;34m(\u001b[0m\u001b[0mself\u001b[0m\u001b[0;34m,\u001b[0m \u001b[0;34m**\u001b[0m\u001b[0mkwargs\u001b[0m\u001b[0;34m)\u001b[0m\u001b[0;34m:\u001b[0m\u001b[0;34m\u001b[0m\u001b[0;34m\u001b[0m\u001b[0m\n\u001b[0;32m---> 53\u001b[0;31m         \u001b[0mWaiter\u001b[0m\u001b[0;34m.\u001b[0m\u001b[0mwait\u001b[0m\u001b[0;34m(\u001b[0m\u001b[0mself\u001b[0m\u001b[0;34m,\u001b[0m \u001b[0;34m**\u001b[0m\u001b[0mkwargs\u001b[0m\u001b[0;34m)\u001b[0m\u001b[0;34m\u001b[0m\u001b[0;34m\u001b[0m\u001b[0m\n\u001b[0m\u001b[1;32m     54\u001b[0m \u001b[0;34m\u001b[0m\u001b[0m\n\u001b[1;32m     55\u001b[0m     wait.__doc__ = WaiterDocstring(\n",
      "\u001b[0;32m/opt/anaconda3/envs/sagemaker-pipelines/lib/python3.8/site-packages/botocore/waiter.py\u001b[0m in \u001b[0;36mwait\u001b[0;34m(self, **kwargs)\u001b[0m\n\u001b[1;32m    360\u001b[0m                         \u001b[0macceptor\u001b[0m\u001b[0;34m.\u001b[0m\u001b[0mexplanation\u001b[0m\u001b[0;34m\u001b[0m\u001b[0;34m\u001b[0m\u001b[0m\n\u001b[1;32m    361\u001b[0m                     )\n\u001b[0;32m--> 362\u001b[0;31m                 raise WaiterError(\n\u001b[0m\u001b[1;32m    363\u001b[0m                     \u001b[0mname\u001b[0m\u001b[0;34m=\u001b[0m\u001b[0mself\u001b[0m\u001b[0;34m.\u001b[0m\u001b[0mname\u001b[0m\u001b[0;34m,\u001b[0m\u001b[0;34m\u001b[0m\u001b[0;34m\u001b[0m\u001b[0m\n\u001b[1;32m    364\u001b[0m                     \u001b[0mreason\u001b[0m\u001b[0;34m=\u001b[0m\u001b[0mreason\u001b[0m\u001b[0;34m,\u001b[0m\u001b[0;34m\u001b[0m\u001b[0;34m\u001b[0m\u001b[0m\n",
      "\u001b[0;31mWaiterError\u001b[0m: Waiter PipelineExecutionComplete failed: Max attempts exceeded"
     ]
    }
   ],
   "source": [
    "execution.wait()"
   ]
  },
  {
   "cell_type": "code",
   "execution_count": null,
   "metadata": {},
   "outputs": [],
   "source": [
    "# execution.list_steps()"
   ]
  },
  {
   "cell_type": "code",
   "execution_count": null,
   "metadata": {},
   "outputs": [],
   "source": [
    "eval_metrics = sagemaker.s3.S3Downloader.read_file(\n",
    "    '{}/eval_metrics.json'.format(\n",
    "        step_evaluate.arguments['ProcessingOutputConfig']['Outputs'][0]['S3Output']['S3Uri'])\n",
    ")\n",
    "\n",
    "string = '<MODEL EVALUATION>\\n'\n",
    "for k, v in json.loads(eval_metrics)['eval_metric'].items():\n",
    "    string += '{}: {:.2%}, '.format(k.upper(), v)\n",
    "print(string[:-2])"
   ]
  },
  {
   "cell_type": "code",
   "execution_count": null,
   "metadata": {},
   "outputs": [],
   "source": [
    "viz = LineageTableVisualizer(sagemaker_session)\n",
    "for execution_step in reversed(execution.list_steps()):\n",
    "    display(pd.json_normalize(execution_step))\n",
    "    display(viz.show(pipeline_execution_step=execution_step))\n",
    "    print('')"
   ]
  },
  {
   "cell_type": "code",
   "execution_count": null,
   "metadata": {},
   "outputs": [],
   "source": [
    "# pipeline.delete()"
   ]
  }
 ],
 "metadata": {
  "kernelspec": {
   "display_name": "Python 3",
   "language": "python",
   "name": "python3"
  },
  "language_info": {
   "codemirror_mode": {
    "name": "ipython",
    "version": 3
   },
   "file_extension": ".py",
   "mimetype": "text/x-python",
   "name": "python",
   "nbconvert_exporter": "python",
   "pygments_lexer": "ipython3",
   "version": "3.8.5"
  }
 },
 "nbformat": 4,
 "nbformat_minor": 4
}

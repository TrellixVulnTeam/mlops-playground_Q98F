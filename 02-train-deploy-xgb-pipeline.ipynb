{
 "cells": [
  {
   "cell_type": "code",
   "execution_count": 1,
   "metadata": {},
   "outputs": [],
   "source": [
    "%load_ext autoreload\n",
    "%autoreload 2"
   ]
  },
  {
   "cell_type": "code",
   "execution_count": 2,
   "metadata": {},
   "outputs": [],
   "source": [
    "import os\n",
    "import json\n",
    "import pprint\n",
    "import boto3\n",
    "import sagemaker\n",
    "from sagemaker.estimator import Estimator\n",
    "from sagemaker.inputs import CreateModelInput, TrainingInput, TransformInput\n",
    "from sagemaker.model import Model\n",
    "from sagemaker.model_metrics import MetricsSource, ModelMetrics \n",
    "from sagemaker.processing import ProcessingInput, ProcessingOutput\n",
    "from sagemaker.sklearn.processing import ScriptProcessor, SKLearnProcessor\n",
    "from sagemaker.transformer import Transformer\n",
    "from sagemaker.workflow.condition_step import ConditionStep, JsonGet\n",
    "from sagemaker.workflow.conditions import ConditionGreaterThanOrEqualTo, ConditionLessThanOrEqualTo\n",
    "from sagemaker.workflow.parameters import ParameterInteger, ParameterString\n",
    "from sagemaker.workflow.properties import PropertyFile\n",
    "from sagemaker.workflow.step_collections import RegisterModel\n",
    "from sagemaker.workflow.steps import CreateModelStep, ProcessingStep, TrainingStep, TransformStep\n",
    "from sagemaker.workflow.pipeline import Pipeline"
   ]
  },
  {
   "cell_type": "code",
   "execution_count": 3,
   "metadata": {},
   "outputs": [],
   "source": [
    "RAW_DATA_PATH = '../../Data/ieee-fraud-detection'\n",
    "\n",
    "sagemaker_session = sagemaker.session.Session()\n",
    "BUCKET = sagemaker_session.default_bucket()\n",
    "PREFIX = 'ieee-fraud-detection-pipeline'\n",
    "JOB_NAME = 'ieee-fraud-detection'\n",
    "MODEL_PACKAGE_GROUP_NAME = 'ieee-fraud-detection'\n",
    "\n",
    "TARGET_METRIC = 'auroc'\n",
    "TARGET_VALUE = 0.9\n",
    "MINIMIZE = True\n",
    "\n",
    "region = boto3.Session().region_name\n",
    "role = 'arn:aws:iam::998601677581:role/service-role/AmazonSageMaker-ExecutionRole-20210114T163887' # sagemaker.get_execution_role()"
   ]
  },
  {
   "cell_type": "code",
   "execution_count": 4,
   "metadata": {},
   "outputs": [
    {
     "name": "stdout",
     "output_type": "stream",
     "text": [
      "CPU times: user 12.6 s, sys: 4.84 s, total: 17.5 s\n",
      "Wall time: 14min 11s\n"
     ]
    }
   ],
   "source": [
    "%%time\n",
    "\n",
    "!aws s3 cp {RAW_DATA_PATH}/train_identity.csv s3://{BUCKET}/{PREFIX}/training/train_identity.csv  --quiet\n",
    "!aws s3 cp {RAW_DATA_PATH}/train_transaction.csv s3://{BUCKET}/{PREFIX}/training/train_transaction.csv --quiet\n",
    "!aws s3 cp {RAW_DATA_PATH}/test_identity.csv s3://{BUCKET}/{PREFIX}/prediction/test_identity.csv --quiet \n",
    "!aws s3 cp {RAW_DATA_PATH}/test_transaction.csv s3://{BUCKET}/{PREFIX}/prediction/test_transaction.csv --quiet"
   ]
  },
  {
   "cell_type": "code",
   "execution_count": 5,
   "metadata": {},
   "outputs": [],
   "source": [
    "training_data_uri = f's3://{BUCKET}/{PREFIX}/training'\n",
    "prediction_data_uri = f's3://{BUCKET}/{PREFIX}/prediction'\n",
    "\n",
    "processing_instance_count = ParameterInteger(\n",
    "    name='ProcessingInstanceCount',\n",
    "    default_value=1\n",
    ")\n",
    "processing_instance_type = ParameterString(\n",
    "    name='ProcessingInstanceType',\n",
    "    default_value='ml.m5.2xlarge'\n",
    ")\n",
    "training_data = ParameterString(\n",
    "    name='TrainingData',\n",
    "    default_value=training_data_uri\n",
    ")\n",
    "training_instance_type = ParameterString(\n",
    "    name='TrainingInstanceType',\n",
    "    default_value='ml.m5.2xlarge'\n",
    ")\n",
    "prediction_data = ParameterString(\n",
    "    name='TransformData',\n",
    "    default_value=prediction_data_uri,\n",
    ")\n",
    "model_approval_status = ParameterString(\n",
    "    name='ModelApprovalStatus',\n",
    "    default_value='PendingManualApproval'\n",
    ")"
   ]
  },
  {
   "cell_type": "code",
   "execution_count": 6,
   "metadata": {},
   "outputs": [],
   "source": [
    "sklearn_processor = SKLearnProcessor(\n",
    "    framework_version='0.23-1',\n",
    "    role=role,\n",
    "    instance_type=processing_instance_type,\n",
    "    instance_count=processing_instance_count,\n",
    "    base_job_name=f'{JOB_NAME}-sklearn-processing'\n",
    ")\n",
    "\n",
    "step_preprocess = ProcessingStep(\n",
    "    name=f'{JOB_NAME}-preprocess_data',\n",
    "    processor=sklearn_processor,\n",
    "    inputs=[\n",
    "      ProcessingInput(source=training_data, destination='/opt/ml/processing/training'),  \n",
    "    ],\n",
    "    outputs=[\n",
    "        ProcessingOutput(source='/opt/ml/processing/train', output_name='train'),\n",
    "        ProcessingOutput(source='/opt/ml/processing/valid', output_name='valid'),\n",
    "        ProcessingOutput(source='/opt/ml/processing/test', output_name='test')\n",
    "    ],\n",
    "    code='scripts/preprocessing.py'\n",
    ")"
   ]
  },
  {
   "cell_type": "code",
   "execution_count": 7,
   "metadata": {},
   "outputs": [],
   "source": [
    "model_output_uri = f's3://{BUCKET}/{PREFIX}/models'\n",
    "image_uri = sagemaker.image_uris.retrieve(\n",
    "    framework='xgboost',\n",
    "    region=region,\n",
    "    version='1.2-1',\n",
    "    py_version='py3',\n",
    "    instance_type=training_instance_type\n",
    ")\n",
    "\n",
    "clf = Estimator(\n",
    "    image_uri=image_uri,\n",
    "    role=role,\n",
    "    instance_count=1,\n",
    "    instance_type=training_instance_type,\n",
    "    output_path=model_output_uri,\n",
    "    use_spot_instances=False,\n",
    "    max_wait=None\n",
    ")\n",
    "clf.set_hyperparameters(\n",
    "    booster='gbtree',\n",
    "    verbosity=0,\n",
    "    objective='binary:logistic',\n",
    "    seed=42,\n",
    "    max_depth=6,\n",
    "    eta=0.3,\n",
    "    gamma=0.0,\n",
    "    min_child_weight=1.0,\n",
    "    subsample=1.0,\n",
    "    colsample_bytree=1.0,\n",
    "    scale_pos_weight=1.0,\n",
    "    eval_metric='auc',\n",
    "    num_round=1000,\n",
    "    early_stopping_rounds=10\n",
    ")"
   ]
  },
  {
   "cell_type": "code",
   "execution_count": 8,
   "metadata": {},
   "outputs": [],
   "source": [
    "step_train = TrainingStep(\n",
    "    name=f'{JOB_NAME}-train_model',\n",
    "    estimator=clf,\n",
    "    inputs={\n",
    "        'train': TrainingInput(\n",
    "            s3_data=step_preprocess.properties.ProcessingOutputConfig.Outputs['train'].S3Output.S3Uri,\n",
    "            content_type='text/csv'\n",
    "        ),\n",
    "        'validation': TrainingInput(\n",
    "            s3_data=step_preprocess.properties.ProcessingOutputConfig.Outputs['valid'].S3Output.S3Uri,\n",
    "            content_type='text/csv'\n",
    "        )\n",
    "    }\n",
    ")"
   ]
  },
  {
   "cell_type": "code",
   "execution_count": 9,
   "metadata": {},
   "outputs": [],
   "source": [
    "script_processor = ScriptProcessor(\n",
    "    role=role,\n",
    "    image_uri=image_uri,\n",
    "    command=['python3'],\n",
    "    instance_count=1,\n",
    "    instance_type=processing_instance_type,\n",
    "    base_job_name=f'{JOB_NAME}-script-processing'\n",
    ")\n",
    "evaluation = PropertyFile(\n",
    "    name=f'{JOB_NAME}-evaluation',\n",
    "    output_name='evaluation',\n",
    "    path='evaluation.json'\n",
    ")\n",
    "\n",
    "step_evaluate = ProcessingStep(\n",
    "    name=f'{PREFIX}-evaluate_model',\n",
    "    processor=script_processor,\n",
    "    inputs=[\n",
    "        ProcessingInput(\n",
    "            source=step_train.properties.ModelArtifacts.S3ModelArtifacts,\n",
    "            destination='/opt/ml/processing/models'\n",
    "        ),\n",
    "        ProcessingInput(\n",
    "            source=step_preprocess.properties.ProcessingOutputConfig.Outputs['test'].S3Output.S3Uri,\n",
    "            destination='/opt/ml/processing/test'\n",
    "        )\n",
    "    ],\n",
    "    outputs=[\n",
    "        ProcessingOutput(source='/opt/ml/processing/evaluation', output_name='evaluation'),\n",
    "    ],\n",
    "    code='scripts/evaluation.py',\n",
    "    property_files=[evaluation]\n",
    ")"
   ]
  },
  {
   "cell_type": "code",
   "execution_count": 10,
   "metadata": {},
   "outputs": [],
   "source": [
    "model_metrics = ModelMetrics(\n",
    "    model_statistics=MetricsSource(\n",
    "        content_type='application/json',\n",
    "        s3_uri='{}/evaluation.json'.format(\n",
    "            step_evaluate.arguments['ProcessingOutputConfig']['Outputs'][0]['S3Output']['S3Uri']\n",
    "        )\n",
    "    )\n",
    ")\n",
    "\n",
    "step_register = RegisterModel(\n",
    "    name=f'{JOB_NAME}-register_model',\n",
    "    estimator=clf,\n",
    "    model_data=step_train.properties.ModelArtifacts.S3ModelArtifacts,\n",
    "    content_types=['text/csv'],\n",
    "    response_types=['text/csv'],\n",
    "    inference_instances=['ml.t2.medium', 'ml.m5.2xlarge'],\n",
    "    transform_instances=['ml.m5.2xlarge'],\n",
    "    model_package_group_name=MODEL_PACKAGE_GROUP_NAME,\n",
    "    model_metrics=model_metrics,\n",
    "    approval_status=model_approval_status\n",
    ")"
   ]
  },
  {
   "cell_type": "code",
   "execution_count": 11,
   "metadata": {},
   "outputs": [],
   "source": [
    "model = Model(\n",
    "    image_uri=image_uri,\n",
    "    model_data=step_train.properties.ModelArtifacts.S3ModelArtifacts,\n",
    "    role=role,\n",
    "    sagemaker_session=sagemaker_session\n",
    ")\n",
    "\n",
    "step_deploy = CreateModelStep(\n",
    "    name=f'{JOB_NAME}-deploy_model',\n",
    "    model=model,\n",
    "    inputs=CreateModelInput(\n",
    "        instance_type='ml.m5.2xlarge',\n",
    "        accelerator_type='ml.eia2.medium'\n",
    "    )\n",
    ")"
   ]
  },
  {
   "cell_type": "code",
   "execution_count": 12,
   "metadata": {},
   "outputs": [],
   "source": [
    "transformer = Transformer(\n",
    "    model_name=step_deploy.properties.ModelName,\n",
    "    instance_count=1,\n",
    "    instance_type='ml.m5.2xlarge',\n",
    "    output_path=f's3://{BUCKET}/{PREFIX}/predictions'\n",
    ")\n",
    "\n",
    "step_predict = TransformStep(\n",
    "    name=f'{JOB_NAME}-predict_data',\n",
    "    transformer=transformer,\n",
    "    inputs=TransformInput(data=prediction_data)\n",
    ")"
   ]
  },
  {
   "cell_type": "code",
   "execution_count": 13,
   "metadata": {},
   "outputs": [],
   "source": [
    "keys = ['left', 'right'] if MINIMIZE else ['right', 'left']    \n",
    "values = [\n",
    "    JsonGet(\n",
    "        step=step_evaluate,\n",
    "        property_file=evaluation,\n",
    "        json_path=f'eval_metric.{TARGET_METRIC}'\n",
    "    ), \n",
    "    TARGET_VALUE\n",
    "]\n",
    "condition = ConditionLessThanOrEqualTo(\n",
    "    **{key: value for key, value in zip(keys, values)}\n",
    ")\n",
    "\n",
    "step_check = ConditionStep(\n",
    "    name=f'{JOB_NAME}-check_condition',\n",
    "    conditions=[condition],\n",
    "    if_steps=[step_register, step_deploy, step_predict],\n",
    "    else_steps=[]\n",
    ")"
   ]
  },
  {
   "cell_type": "code",
   "execution_count": 14,
   "metadata": {},
   "outputs": [],
   "source": [
    "pipeline_name = f'{JOB_NAME}-pipeline'\n",
    "pipeline = Pipeline(\n",
    "    name=pipeline_name,\n",
    "    parameters=[\n",
    "        processing_instance_count,\n",
    "        processing_instance_type, \n",
    "        training_data,\n",
    "        training_instance_type,\n",
    "        prediction_data,\n",
    "        model_approval_status\n",
    "    ],\n",
    "    steps=[step_preprocess, step_train, step_evaluate, step_check]\n",
    ")"
   ]
  },
  {
   "cell_type": "code",
   "execution_count": 15,
   "metadata": {},
   "outputs": [
    {
     "name": "stderr",
     "output_type": "stream",
     "text": [
      "No finished training job found associated with this estimator. Please make sure this estimator is only used for building workflow config\n"
     ]
    }
   ],
   "source": [
    "definition = json.loads(pipeline.definition())\n",
    "# pprint.pprint(definition)"
   ]
  },
  {
   "cell_type": "code",
   "execution_count": 20,
   "metadata": {},
   "outputs": [
    {
     "name": "stderr",
     "output_type": "stream",
     "text": [
      "No finished training job found associated with this estimator. Please make sure this estimator is only used for building workflow config\n",
      "No finished training job found associated with this estimator. Please make sure this estimator is only used for building workflow config\n"
     ]
    }
   ],
   "source": [
    "_ = pipeline.upsert(role_arn=role)\n",
    "execution = pipeline.start()\n",
    "description = execution.describe()\n",
    "# pprint.pprint(description)"
   ]
  },
  {
   "cell_type": "code",
   "execution_count": 48,
   "metadata": {},
   "outputs": [
    {
     "ename": "WaiterError",
     "evalue": "Waiter PipelineExecutionComplete failed: Waiter encountered a terminal failure state: For expression \"PipelineExecutionStatus\" we matched expected path: \"Failed\"",
     "output_type": "error",
     "traceback": [
      "\u001b[0;31m---------------------------------------------------------------------------\u001b[0m",
      "\u001b[0;31mWaiterError\u001b[0m                               Traceback (most recent call last)",
      "\u001b[0;32m<timed eval>\u001b[0m in \u001b[0;36m<module>\u001b[0;34m\u001b[0m\n",
      "\u001b[0;32m/opt/anaconda3/envs/mlops-playground/lib/python3.8/site-packages/sagemaker/workflow/pipeline.py\u001b[0m in \u001b[0;36mwait\u001b[0;34m(self, delay, max_attempts)\u001b[0m\n\u001b[1;32m    364\u001b[0m             \u001b[0mwaiter_id\u001b[0m\u001b[0;34m,\u001b[0m \u001b[0mmodel\u001b[0m\u001b[0;34m,\u001b[0m \u001b[0mself\u001b[0m\u001b[0;34m.\u001b[0m\u001b[0msagemaker_session\u001b[0m\u001b[0;34m.\u001b[0m\u001b[0msagemaker_client\u001b[0m\u001b[0;34m\u001b[0m\u001b[0;34m\u001b[0m\u001b[0m\n\u001b[1;32m    365\u001b[0m         )\n\u001b[0;32m--> 366\u001b[0;31m         \u001b[0mwaiter\u001b[0m\u001b[0;34m.\u001b[0m\u001b[0mwait\u001b[0m\u001b[0;34m(\u001b[0m\u001b[0mPipelineExecutionArn\u001b[0m\u001b[0;34m=\u001b[0m\u001b[0mself\u001b[0m\u001b[0;34m.\u001b[0m\u001b[0marn\u001b[0m\u001b[0;34m)\u001b[0m\u001b[0;34m\u001b[0m\u001b[0;34m\u001b[0m\u001b[0m\n\u001b[0m",
      "\u001b[0;32m/opt/anaconda3/envs/mlops-playground/lib/python3.8/site-packages/botocore/waiter.py\u001b[0m in \u001b[0;36mwait\u001b[0;34m(self, **kwargs)\u001b[0m\n\u001b[1;32m     51\u001b[0m     \u001b[0;31m# method.\u001b[0m\u001b[0;34m\u001b[0m\u001b[0;34m\u001b[0m\u001b[0;34m\u001b[0m\u001b[0m\n\u001b[1;32m     52\u001b[0m     \u001b[0;32mdef\u001b[0m \u001b[0mwait\u001b[0m\u001b[0;34m(\u001b[0m\u001b[0mself\u001b[0m\u001b[0;34m,\u001b[0m \u001b[0;34m**\u001b[0m\u001b[0mkwargs\u001b[0m\u001b[0;34m)\u001b[0m\u001b[0;34m:\u001b[0m\u001b[0;34m\u001b[0m\u001b[0;34m\u001b[0m\u001b[0m\n\u001b[0;32m---> 53\u001b[0;31m         \u001b[0mWaiter\u001b[0m\u001b[0;34m.\u001b[0m\u001b[0mwait\u001b[0m\u001b[0;34m(\u001b[0m\u001b[0mself\u001b[0m\u001b[0;34m,\u001b[0m \u001b[0;34m**\u001b[0m\u001b[0mkwargs\u001b[0m\u001b[0;34m)\u001b[0m\u001b[0;34m\u001b[0m\u001b[0;34m\u001b[0m\u001b[0m\n\u001b[0m\u001b[1;32m     54\u001b[0m \u001b[0;34m\u001b[0m\u001b[0m\n\u001b[1;32m     55\u001b[0m     wait.__doc__ = WaiterDocstring(\n",
      "\u001b[0;32m/opt/anaconda3/envs/mlops-playground/lib/python3.8/site-packages/botocore/waiter.py\u001b[0m in \u001b[0;36mwait\u001b[0;34m(self, **kwargs)\u001b[0m\n\u001b[1;32m    348\u001b[0m                         \u001b[0macceptor\u001b[0m\u001b[0;34m.\u001b[0m\u001b[0mexplanation\u001b[0m\u001b[0;34m\u001b[0m\u001b[0;34m\u001b[0m\u001b[0m\n\u001b[1;32m    349\u001b[0m                         )\n\u001b[0;32m--> 350\u001b[0;31m                 raise WaiterError(\n\u001b[0m\u001b[1;32m    351\u001b[0m                     \u001b[0mname\u001b[0m\u001b[0;34m=\u001b[0m\u001b[0mself\u001b[0m\u001b[0;34m.\u001b[0m\u001b[0mname\u001b[0m\u001b[0;34m,\u001b[0m\u001b[0;34m\u001b[0m\u001b[0;34m\u001b[0m\u001b[0m\n\u001b[1;32m    352\u001b[0m                     \u001b[0mreason\u001b[0m\u001b[0;34m=\u001b[0m\u001b[0mreason\u001b[0m\u001b[0;34m,\u001b[0m\u001b[0;34m\u001b[0m\u001b[0;34m\u001b[0m\u001b[0m\n",
      "\u001b[0;31mWaiterError\u001b[0m: Waiter PipelineExecutionComplete failed: Waiter encountered a terminal failure state: For expression \"PipelineExecutionStatus\" we matched expected path: \"Failed\""
     ]
    }
   ],
   "source": [
    "%%time\n",
    "execution.wait()"
   ]
  },
  {
   "cell_type": "code",
   "execution_count": 49,
   "metadata": {},
   "outputs": [
    {
     "name": "stdout",
     "output_type": "stream",
     "text": [
      "[{'EndTime': datetime.datetime(2021, 5, 3, 18, 7, 23, 926000, tzinfo=tzlocal()),\n",
      "  'FailureReason': 'ClientError: Cannot access S3 key.',\n",
      "  'Metadata': {'ProcessingJob': {'Arn': 'arn:aws:sagemaker:us-east-1:998601677581:processing-job/pipelines-titglejsenlp-ieee-fraud-detection-hx5kbhfiqe'}},\n",
      "  'StartTime': datetime.datetime(2021, 5, 3, 18, 2, 55, 871000, tzinfo=tzlocal()),\n",
      "  'StepName': 'ieee-fraud-detection-pipeline-evaluate_model',\n",
      "  'StepStatus': 'Failed'},\n",
      " {'EndTime': datetime.datetime(2021, 5, 3, 18, 2, 55, 442000, tzinfo=tzlocal()),\n",
      "  'Metadata': {'TrainingJob': {'Arn': 'arn:aws:sagemaker:us-east-1:998601677581:training-job/pipelines-titglejsenlp-ieee-fraud-detection-jiekwqbmca'}},\n",
      "  'StartTime': datetime.datetime(2021, 5, 3, 17, 50, 38, 4000, tzinfo=tzlocal()),\n",
      "  'StepName': 'ieee-fraud-detection-train_model',\n",
      "  'StepStatus': 'Succeeded'},\n",
      " {'EndTime': datetime.datetime(2021, 5, 3, 17, 50, 25, 195000, tzinfo=tzlocal()),\n",
      "  'Metadata': {'ProcessingJob': {'Arn': 'arn:aws:sagemaker:us-east-1:998601677581:processing-job/pipelines-titglejsenlp-ieee-fraud-detection-znpyrsuwmg'}},\n",
      "  'StartTime': datetime.datetime(2021, 5, 3, 17, 43, 33, 508000, tzinfo=tzlocal()),\n",
      "  'StepName': 'ieee-fraud-detection-preprocess_data',\n",
      "  'StepStatus': 'Succeeded'}]\n"
     ]
    }
   ],
   "source": [
    "steps_list = execution.list_steps()\n",
    "pprint.pprint(steps_list)"
   ]
  },
  {
   "cell_type": "code",
   "execution_count": 24,
   "metadata": {},
   "outputs": [],
   "source": [
    "description = execution.describe()"
   ]
  },
  {
   "cell_type": "code",
   "execution_count": 25,
   "metadata": {},
   "outputs": [
    {
     "data": {
      "text/plain": [
       "{'PipelineArn': 'arn:aws:sagemaker:us-east-1:998601677581:pipeline/ieee-fraud-detection-pipeline',\n",
       " 'PipelineExecutionArn': 'arn:aws:sagemaker:us-east-1:998601677581:pipeline/ieee-fraud-detection-pipeline/execution/q4l913tyk00k',\n",
       " 'PipelineExecutionDisplayName': 'execution-1620025918561',\n",
       " 'PipelineExecutionStatus': 'Failed',\n",
       " 'CreationTime': datetime.datetime(2021, 5, 3, 16, 11, 58, 442000, tzinfo=tzlocal()),\n",
       " 'LastModifiedTime': datetime.datetime(2021, 5, 3, 16, 37, 3, 677000, tzinfo=tzlocal()),\n",
       " 'CreatedBy': {},\n",
       " 'LastModifiedBy': {},\n",
       " 'ResponseMetadata': {'RequestId': 'cff1a0cf-bb36-4dbb-8f6c-978c2a0f5285',\n",
       "  'HTTPStatusCode': 200,\n",
       "  'HTTPHeaders': {'x-amzn-requestid': 'cff1a0cf-bb36-4dbb-8f6c-978c2a0f5285',\n",
       "   'content-type': 'application/x-amz-json-1.1',\n",
       "   'content-length': '546',\n",
       "   'date': 'Mon, 03 May 2021 07:39:11 GMT'},\n",
       "  'RetryAttempts': 0}}"
      ]
     },
     "execution_count": 25,
     "metadata": {},
     "output_type": "execute_result"
    }
   ],
   "source": [
    "description"
   ]
  },
  {
   "cell_type": "code",
   "execution_count": null,
   "metadata": {},
   "outputs": [],
   "source": []
  },
  {
   "cell_type": "code",
   "execution_count": null,
   "metadata": {},
   "outputs": [],
   "source": []
  },
  {
   "cell_type": "code",
   "execution_count": null,
   "metadata": {},
   "outputs": [],
   "source": [
    "s3_input_train = TrainingInput(s3_data='s3://{}/{}/train/'.format(default_bucket, 'ifd-sklearn-process-2021-04-29-02-26-39-184/output'), content_type='csv')\n",
    "s3_input_valid = TrainingInput(s3_data='s3://{}/{}/valid/'.format(default_bucket, 'ifd-sklearn-process-2021-04-29-02-26-39-184/output'), content_type='csv')\n"
   ]
  },
  {
   "cell_type": "code",
   "execution_count": null,
   "metadata": {},
   "outputs": [],
   "source": [
    "transformer = clf.transformer(\n",
    "    instance_count=1, \n",
    "    instance_type='ml.m5.2xlarge', \n",
    "    output_path=f's3://{default_bucket}/{prefix}/prediction'\n",
    ")\n",
    "\n",
    "_ = transformer.transform(\n",
    "    data=f's3://{default_bucket}/{prefix}/test/',\n",
    "    content_type='text/csv', \n",
    "    split_type='Line'\n",
    ")"
   ]
  },
  {
   "cell_type": "code",
   "execution_count": null,
   "metadata": {},
   "outputs": [],
   "source": []
  },
  {
   "cell_type": "code",
   "execution_count": null,
   "metadata": {},
   "outputs": [],
   "source": []
  },
  {
   "cell_type": "code",
   "execution_count": null,
   "metadata": {},
   "outputs": [],
   "source": [
    "hyperparameter_ranges = {'max_depth': IntegerParameter(1, 10),\n",
    "                         'eta': ContinuousParameter(0.01, 1.0),\n",
    "                         'gamma': ContinuousParameter(0.0, 1.0),\n",
    "                         'min_child_weight': ContinuousParameter(1e-06, 1000),\n",
    "                         'colsample_bytree': ContinuousParameter(0.1, 1.0)}"
   ]
  },
  {
   "cell_type": "code",
   "execution_count": null,
   "metadata": {},
   "outputs": [],
   "source": [
    "tuner = HyperparameterTuner(xgb_clf,\n",
    "                            'validation:auc',\n",
    "                            hyperparameter_ranges,\n",
    "                            objective_type='Maximize',\n",
    "                            max_jobs=20,\n",
    "                            max_parallel_jobs=3,\n",
    "                            base_tuning_job_name='ifd-xgboost-hpo',\n",
    "                            early_stopping_type='Auto')"
   ]
  },
  {
   "cell_type": "code",
   "execution_count": null,
   "metadata": {},
   "outputs": [],
   "source": [
    "from sagemaker.inputs import TrainingInput"
   ]
  },
  {
   "cell_type": "code",
   "execution_count": null,
   "metadata": {},
   "outputs": [],
   "source": []
  },
  {
   "cell_type": "code",
   "execution_count": null,
   "metadata": {},
   "outputs": [],
   "source": [
    "s3_input_train = TrainingInput(s3_data='s3://{}/{}/train/'.format(default_bucket, 'ifd-sklearn-process-2021-04-29-02-26-39-184/output'), content_type='csv')\n",
    "s3_input_valid = TrainingInput(s3_data='s3://{}/{}/valid/'.format(default_bucket, 'ifd-sklearn-process-2021-04-29-02-26-39-184/output'), content_type='csv')\n",
    "\n",
    "tuner.fit({'train': s3_input_train, 'validation': s3_input_valid}, include_cls_metadata=False)"
   ]
  },
  {
   "cell_type": "code",
   "execution_count": null,
   "metadata": {},
   "outputs": [],
   "source": [
    "tuner.estimator."
   ]
  },
  {
   "cell_type": "code",
   "execution_count": null,
   "metadata": {},
   "outputs": [],
   "source": [
    "sklearn_processor.run(\n",
    "    code='ieee-fraud-detection/preprocessing.py',\n",
    "    inputs=[\n",
    "        ProcessingInput(source=input_data, destination=\"/opt/ml/processing/input\"),\n",
    "    ],\n",
    "    outputs=[\n",
    "        ProcessingOutput(output_name=\"train\", source=\"/opt/ml/processing/train\"),\n",
    "        ProcessingOutput(output_name=\"validation\", source=\"/opt/ml/processing/valid\"),\n",
    "        ProcessingOutput(output_name=\"test\", source=\"/opt/ml/processing/test\")\n",
    "    ]\n",
    ")"
   ]
  },
  {
   "cell_type": "code",
   "execution_count": null,
   "metadata": {},
   "outputs": [],
   "source": [
    "step_process = ProcessingStep(\n",
    "    name='IFD-Split_and_Preprocess',\n",
    "    processor=sklearn_processor,\n",
    "    inputs=[\n",
    "      ProcessingInput(source=input_data, destination='/opt/ml/processing/input'),  \n",
    "    ],\n",
    "    outputs=[\n",
    "        ProcessingOutput(output_name='train', source='/opt/ml/processing/train'),\n",
    "        ProcessingOutput(output_name='valid', source='/opt/ml/processing/valid')\n",
    "    ],\n",
    "    code='ieee-fraud-detection/preprocessing.py'\n",
    ")"
   ]
  },
  {
   "cell_type": "code",
   "execution_count": null,
   "metadata": {},
   "outputs": [],
   "source": [
    "s3 = boto3.resource('s3')\n",
    "\n",
    "base_uri = f's3://{default_bucket}/ieee-fraud-detection'\n",
    "input_data_uri = sagemaker.s3.S3Uploader.upload(\n",
    "    local_path=DATA_DIR, \n",
    "    desired_s3_uri=base_uri,\n",
    ")\n",
    "print(input_data_uri)"
   ]
  },
  {
   "cell_type": "code",
   "execution_count": null,
   "metadata": {},
   "outputs": [],
   "source": []
  }
 ],
 "metadata": {
  "kernelspec": {
   "display_name": "Python 3",
   "language": "python",
   "name": "python3"
  },
  "language_info": {
   "codemirror_mode": {
    "name": "ipython",
    "version": 3
   },
   "file_extension": ".py",
   "mimetype": "text/x-python",
   "name": "python",
   "nbconvert_exporter": "python",
   "pygments_lexer": "ipython3",
   "version": "3.8.5"
  }
 },
 "nbformat": 4,
 "nbformat_minor": 4
}

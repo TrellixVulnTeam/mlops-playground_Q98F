{
 "cells": [
  {
   "cell_type": "code",
   "execution_count": null,
   "metadata": {},
   "outputs": [],
   "source": [
    "%load_ext autoreload\n",
    "%autoreload 2"
   ]
  },
  {
   "cell_type": "code",
   "execution_count": null,
   "metadata": {},
   "outputs": [],
   "source": [
    "import os\n",
    "import boto3\n",
    "import sagemaker\n",
    "from sagemaker.estimator import Estimator\n",
    "from sagemaker.inputs import TrainingInput\n",
    "from sagemaker.processing import ProcessingInput, ProcessingOutput\n",
    "from sagemaker.sklearn.processing import ScriptProcessor, SKLearnProcessor\n",
    "from sagemaker.workflow.parameters import ParameterInteger, ParameterString\n",
    "from sagemaker.workflow.properties import PropertyFile\n",
    "from sagemaker.workflow.steps import ProcessingStep, TrainingStep"
   ]
  },
  {
   "cell_type": "code",
   "execution_count": null,
   "metadata": {},
   "outputs": [],
   "source": [
    "def upload_folder(local_path, bucket, prefix):\n",
    "    s3_client = boto3.client('s3')\n",
    "    for root, dirs, files in os.walk(local_path):\n",
    "        for file in files:\n",
    "            s3_client.upload_file(\n",
    "              os.path.join(root, file), bucket, prefix + '/' + file)"
   ]
  },
  {
   "cell_type": "code",
   "execution_count": null,
   "metadata": {},
   "outputs": [],
   "source": [
    "RAW_DATA_PATH = '../../Data/ieee-fraud-detection'\n",
    "PROC_DATA_PATH = './proc_data'"
   ]
  },
  {
   "cell_type": "code",
   "execution_count": null,
   "metadata": {},
   "outputs": [],
   "source": [
    "region = boto3.Session().region_name\n",
    "sagemaker_session = sagemaker.session.Session()\n",
    "default_bucket = sagemaker_session.default_bucket()\n",
    "prefix = 'ieee-fraud-detection'\n",
    "role = 'AmazonSageMaker-ExecutionRole-20210114T163887' # sagemaker.get_execution_role()"
   ]
  },
  {
   "cell_type": "code",
   "execution_count": null,
   "metadata": {},
   "outputs": [],
   "source": [
    "%%time\n",
    "upload_folder(RAW_DATA_PATH, default_bucket, prefix + '/raw_data')"
   ]
  },
  {
   "cell_type": "code",
   "execution_count": null,
   "metadata": {},
   "outputs": [],
   "source": [
    "input_data_uri = f's3://{default_bucket}/{prefix}/raw_data'\n",
    "\n",
    "processing_instance_count = ParameterInteger(\n",
    "    name='ProcessingInstanceCount',\n",
    "    default_value=1\n",
    ")\n",
    "processing_instance_type = ParameterString(\n",
    "    name='ProcessingInstanceType',\n",
    "    default_value='ml.m5.2xlarge'\n",
    ")\n",
    "input_data = ParameterString(\n",
    "    name='InputData',\n",
    "    default_value=input_data_uri\n",
    ")\n",
    "training_instance_type = ParameterString(\n",
    "    name='TrainingInstanceType',\n",
    "    default_value='ml.m5.2xlarge'\n",
    ")"
   ]
  },
  {
   "cell_type": "code",
   "execution_count": null,
   "metadata": {},
   "outputs": [],
   "source": [
    "sklearn_processor = SKLearnProcessor(\n",
    "    framework_version='0.23-1',\n",
    "    role=role,\n",
    "    instance_type=processing_instance_type,\n",
    "    instance_count=processing_instance_count,\n",
    "    base_job_name='ifd-sklearn-process'\n",
    ")"
   ]
  },
  {
   "cell_type": "code",
   "execution_count": null,
   "metadata": {},
   "outputs": [],
   "source": [
    "step_process = ProcessingStep(\n",
    "    name='ifd-split_and_preprocess',\n",
    "    processor=sklearn_processor,\n",
    "    inputs=[\n",
    "      ProcessingInput(source=input_data, destination='/opt/ml/processing/input'),  \n",
    "    ],\n",
    "    outputs=[\n",
    "        ProcessingOutput(output_name='train', source='/opt/ml/processing/train'),\n",
    "        ProcessingOutput(output_name='valid', source='/opt/ml/processing/valid'),\n",
    "        ProcessingOutput(output_name='test', source='/opt/ml/processing/test')\n",
    "    ],\n",
    "    code='scripts/preprocessing.py'\n",
    ")"
   ]
  },
  {
   "cell_type": "code",
   "execution_count": null,
   "metadata": {},
   "outputs": [],
   "source": [
    "model_output_uri = f's3://{default_bucket}/{prefix}/models'\n",
    "image_uri = sagemaker.image_uris.retrieve(\n",
    "    framework='xgboost',\n",
    "    region=region,\n",
    "    version='1.2-1',\n",
    "    py_version='py3',\n",
    "    instance_type=training_instance_type\n",
    ")\n",
    "\n",
    "clf = Estimator(\n",
    "    image_uri=image_uri,\n",
    "    role=role,\n",
    "    instance_count=1,\n",
    "    instance_type=training_instance_type,\n",
    "    output_path=model_output_uri,\n",
    "    use_spot_instances=False,\n",
    "    max_wait=None\n",
    ")\n",
    "clf.set_hyperparameters(\n",
    "    booster='gbtree',\n",
    "    verbosity=0,\n",
    "    objective='binary:logistic',\n",
    "    seed=42,\n",
    "    max_depth=6,\n",
    "    eta=0.3,\n",
    "    gamma=0.0,\n",
    "    min_child_weight=1.0,\n",
    "    subsample=1.0,\n",
    "    colsample_bytree=1.0,\n",
    "    scale_pos_weight=1.0,\n",
    "    eval_metric='auc',\n",
    "    num_round=1000,\n",
    "    early_stopping_rounds=10,\n",
    "    verbose_eval=False\n",
    ")"
   ]
  },
  {
   "cell_type": "code",
   "execution_count": null,
   "metadata": {},
   "outputs": [],
   "source": [
    "step_train = TrainingStep(\n",
    "    name='ifd-train',\n",
    "    estimator=clf,\n",
    "    inputs={\n",
    "        'train': TrainingInput(\n",
    "            s3_data=step_process.properties.ProcessingOutputConfig.Outputs['train'].S3Output.S3Uri,\n",
    "            content_type='text/csv'\n",
    "        ),\n",
    "        'validation': TrainingInput(\n",
    "            s3_data=step_process.properties.ProcessingOutputConfig.Outputs['valid'].S3Output.S3Uri,\n",
    "            content_type='text/csv'\n",
    "        )\n",
    "    }\n",
    ")"
   ]
  },
  {
   "cell_type": "code",
   "execution_count": null,
   "metadata": {},
   "outputs": [],
   "source": [
    "script_processor = ScriptProcessor(\n",
    "    role=role,\n",
    "    image_uri=image_uri,\n",
    "    command=['python3'],\n",
    "    instance_count=1,\n",
    "    instance_type=processing_instance_type,\n",
    "    base_job_name='ifd-script-eval'\n",
    ")"
   ]
  },
  {
   "cell_type": "code",
   "execution_count": null,
   "metadata": {},
   "outputs": [],
   "source": [
    "evaluation_report = PropertyFile(\n",
    "    name='ifd-evaluation-report',\n",
    "    output_name='evaluation',\n",
    "    path='evaluation.json'\n",
    ")\n",
    "\n",
    "step_eval = ProcessingStep(\n",
    "    name='ifd-eval',\n",
    "    processor=script_processor,\n",
    "    inputs=[\n",
    "        ProcessingInput(\n",
    "            source=step_train.properties.ModelArtifacts.S3ModelArtifacts,\n",
    "            destination='/opt/ml/processing/models'\n",
    "        ),\n",
    "        ProcessingInput(\n",
    "            source=step_process.properties.ProcessingOutputConfig.Outputs['test'].S3Output.S3Uri,\n",
    "            destination='/opt/ml/processing/test'\n",
    "        )\n",
    "    ],\n",
    "    outputs=[\n",
    "        ProcessingOutput(output_name='evaluation', source='/opt/ml/processing/evaluation'),\n",
    "    ],\n",
    "    code='scripts/evaluation.py',\n",
    "    property_files=[evaluation_report],\n",
    ")"
   ]
  },
  {
   "cell_type": "code",
   "execution_count": null,
   "metadata": {},
   "outputs": [],
   "source": []
  },
  {
   "cell_type": "code",
   "execution_count": null,
   "metadata": {},
   "outputs": [],
   "source": [
    "s3_input_train = TrainingInput(s3_data='s3://{}/{}/train/'.format(default_bucket, 'ifd-sklearn-process-2021-04-29-02-26-39-184/output'), content_type='csv')\n",
    "s3_input_valid = TrainingInput(s3_data='s3://{}/{}/valid/'.format(default_bucket, 'ifd-sklearn-process-2021-04-29-02-26-39-184/output'), content_type='csv')\n"
   ]
  },
  {
   "cell_type": "code",
   "execution_count": null,
   "metadata": {},
   "outputs": [],
   "source": [
    "clf.fit(inputs={\n",
    "        'train': s3_input_train\n",
    "        ,\n",
    "        'validation': s3_input_valid\n",
    "    \n",
    "    })"
   ]
  },
  {
   "cell_type": "code",
   "execution_count": null,
   "metadata": {},
   "outputs": [],
   "source": []
  },
  {
   "cell_type": "code",
   "execution_count": null,
   "metadata": {},
   "outputs": [],
   "source": []
  },
  {
   "cell_type": "code",
   "execution_count": null,
   "metadata": {},
   "outputs": [],
   "source": [
    "hyperparameter_ranges = {'max_depth': IntegerParameter(1, 10),\n",
    "                         'eta': ContinuousParameter(0.01, 1.0),\n",
    "                         'gamma': ContinuousParameter(0.0, 1.0),\n",
    "                         'min_child_weight': ContinuousParameter(1e-06, 1000),\n",
    "                         'colsample_bytree': ContinuousParameter(0.1, 1.0)}"
   ]
  },
  {
   "cell_type": "code",
   "execution_count": null,
   "metadata": {},
   "outputs": [],
   "source": [
    "tuner = HyperparameterTuner(xgb_clf,\n",
    "                            'validation:auc',\n",
    "                            hyperparameter_ranges,\n",
    "                            objective_type='Maximize',\n",
    "                            max_jobs=20,\n",
    "                            max_parallel_jobs=3,\n",
    "                            base_tuning_job_name='ifd-xgboost-hpo',\n",
    "                            early_stopping_type='Auto')"
   ]
  },
  {
   "cell_type": "code",
   "execution_count": null,
   "metadata": {},
   "outputs": [],
   "source": [
    "from sagemaker.inputs import TrainingInput"
   ]
  },
  {
   "cell_type": "code",
   "execution_count": null,
   "metadata": {},
   "outputs": [],
   "source": []
  },
  {
   "cell_type": "code",
   "execution_count": null,
   "metadata": {},
   "outputs": [],
   "source": [
    "s3_input_train = TrainingInput(s3_data='s3://{}/{}/train/'.format(default_bucket, 'ifd-sklearn-process-2021-04-29-02-26-39-184/output'), content_type='csv')\n",
    "s3_input_valid = TrainingInput(s3_data='s3://{}/{}/valid/'.format(default_bucket, 'ifd-sklearn-process-2021-04-29-02-26-39-184/output'), content_type='csv')\n",
    "\n",
    "tuner.fit({'train': s3_input_train, 'validation': s3_input_valid}, include_cls_metadata=False)"
   ]
  },
  {
   "cell_type": "code",
   "execution_count": null,
   "metadata": {},
   "outputs": [],
   "source": [
    "tuner.estimator."
   ]
  },
  {
   "cell_type": "code",
   "execution_count": null,
   "metadata": {},
   "outputs": [],
   "source": [
    "sklearn_processor.run(\n",
    "    code='ieee-fraud-detection/preprocessing.py',\n",
    "    inputs=[\n",
    "        ProcessingInput(source=input_data, destination=\"/opt/ml/processing/input\"),\n",
    "    ],\n",
    "    outputs=[\n",
    "        ProcessingOutput(output_name=\"train\", source=\"/opt/ml/processing/train\"),\n",
    "        ProcessingOutput(output_name=\"validation\", source=\"/opt/ml/processing/valid\"),\n",
    "        ProcessingOutput(output_name=\"test\", source=\"/opt/ml/processing/test\")\n",
    "    ]\n",
    ")"
   ]
  },
  {
   "cell_type": "code",
   "execution_count": null,
   "metadata": {},
   "outputs": [],
   "source": [
    "step_process = ProcessingStep(\n",
    "    name='IFD-Split_and_Preprocess',\n",
    "    processor=sklearn_processor,\n",
    "    inputs=[\n",
    "      ProcessingInput(source=input_data, destination='/opt/ml/processing/input'),  \n",
    "    ],\n",
    "    outputs=[\n",
    "        ProcessingOutput(output_name='train', source='/opt/ml/processing/train'),\n",
    "        ProcessingOutput(output_name='valid', source='/opt/ml/processing/valid')\n",
    "    ],\n",
    "    code='ieee-fraud-detection/preprocessing.py'\n",
    ")"
   ]
  },
  {
   "cell_type": "code",
   "execution_count": null,
   "metadata": {},
   "outputs": [],
   "source": [
    "s3 = boto3.resource('s3')\n",
    "\n",
    "base_uri = f's3://{default_bucket}/ieee-fraud-detection'\n",
    "input_data_uri = sagemaker.s3.S3Uploader.upload(\n",
    "    local_path=DATA_DIR, \n",
    "    desired_s3_uri=base_uri,\n",
    ")\n",
    "print(input_data_uri)"
   ]
  },
  {
   "cell_type": "code",
   "execution_count": null,
   "metadata": {},
   "outputs": [],
   "source": []
  },
  {
   "cell_type": "code",
   "execution_count": null,
   "metadata": {},
   "outputs": [],
   "source": [
    "import multiprocessing\n",
    "import os\n",
    "import numpy as np\n",
    "import pandas as pd\n",
    "from sklearn.model_selection import train_test_split\n",
    "from sklearn.compose import make_column_transformer\n",
    "from sklearn.impute import SimpleImputer\n",
    "from sklearn.pipeline import make_pipeline\n",
    "#from sklearn.preprocessing import StandardScaler\n",
    "import lightgbm as lgb\n",
    "from utils.ordinal_encoder import OrdinalEncoder"
   ]
  },
  {
   "cell_type": "code",
   "execution_count": null,
   "metadata": {},
   "outputs": [],
   "source": [
    "def str_to_int(x):\n",
    "    return x if pd.isnull(x) else str(int(x))"
   ]
  },
  {
   "cell_type": "code",
   "execution_count": null,
   "metadata": {},
   "outputs": [],
   "source": [
    "DATA_DIR = '../../../../Data/ieee-fraud-detection'\n",
    "RANDOM_STATE = 42"
   ]
  },
  {
   "cell_type": "code",
   "execution_count": null,
   "metadata": {},
   "outputs": [],
   "source": [
    "train_identity = pd.read_csv(os.path.join(local_data_path, 'train_identity.csv'))\n",
    "train_transaction = pd.read_csv(os.path.join(local_data_path, 'train_transaction.csv')) \n",
    "\n",
    "df_train = pd.merge(train_transaction, train_identity, on='TransactionID', how='left')"
   ]
  },
  {
   "cell_type": "code",
   "execution_count": null,
   "metadata": {},
   "outputs": [],
   "source": [
    "cat_features = pd.Index(['ProductCD', 'addr1', 'addr2', 'P_emaildomain', 'R_emaildomain', 'DeviceType', 'DeviceInfo'] + \\\n",
    "[f'card{i}' for i in range(1, 7)] + [f'M{i}' for i in range(1, 10)] + [f'id_{i}' for i in range(12, 39)])\n",
    "num_features = df_train.columns.difference(pd.Index(['TransactionID', 'TransactionDT', 'isFraud']) | cat_features)\n",
    "all_features = cat_features | num_features"
   ]
  },
  {
   "cell_type": "code",
   "execution_count": null,
   "metadata": {},
   "outputs": [],
   "source": [
    "def str_to_int(x):\n",
    "    return x if pd.isnull(x) else str(int(x))\n",
    "\n",
    "\n",
    "int_cat_features =  df_train[cat_features].select_dtypes('number').columns\n",
    "df_train[int_cat_features] = df_train[int_cat_features].applymap(str_to_int)"
   ]
  },
  {
   "cell_type": "code",
   "execution_count": null,
   "metadata": {},
   "outputs": [],
   "source": [
    "df_train[cat_features] = df_train[cat_features].astype('str')\n",
    "\n",
    "df_X_train, df_X_valid, df_y_train, df_y_valid = train_test_split(\n",
    "    df_train[all_features], df_train['isFraud'], test_size=0.2, random_state=42, stratify=df_train['isFraud'])"
   ]
  },
  {
   "cell_type": "code",
   "execution_count": null,
   "metadata": {},
   "outputs": [],
   "source": [
    "# n_jobs = int(0.75 * multiprocessing.cpu_count())\n",
    "cat_pipeline = make_pipeline(OrdinalEncoder(handle_unknown='use_encoded_value', unknown_value=np.nan), SimpleImputer(strategy='constant', fill_value=-1))\n",
    "num_pipeline = make_pipeline(SimpleImputer(strategy='median'))\n",
    "transformer = make_column_transformer((cat_pipeline, cat_features), (num_pipeline, num_features))\n",
    "\n",
    "X_train = transformer.fit_transform(df_X_train)\n",
    "X_valid = transformer.transform(df_X_valid)\n",
    "\n",
    "df_train = np.concatenate((df_y_train.values.reshape(-1, 1), X_train), axis=1)\n",
    "df_valid = np.concatenate((df_y_valid.values.reshape(-1, 1), X_valid), axis=1)"
   ]
  },
  {
   "cell_type": "code",
   "execution_count": null,
   "metadata": {},
   "outputs": [],
   "source": [
    "df_train = np.concatenate((df_y_train.values.reshape(-1, 1), X_train), axis=1)\n",
    "df_valid = np.concatenate((df_y_valid.values.reshape(-1, 1), X_valid), axis=1)"
   ]
  },
  {
   "cell_type": "code",
   "execution_count": null,
   "metadata": {},
   "outputs": [],
   "source": [
    "lgb_dtrain = lgb.Dataset(X_train, label=df_y_train)\n",
    "lgb_dvalid = lgb.Dataset(X_valid, label=df_y_valid, reference=lgb_dtrain)"
   ]
  },
  {
   "cell_type": "code",
   "execution_count": null,
   "metadata": {},
   "outputs": [],
   "source": [
    "params = {\n",
    "    'metric': 'auc'\n",
    "    , 'boosting_type': 'gbdt'\n",
    "    , 'num_leaves': 31\n",
    "    , 'max_depth': -1\n",
    "    , 'learning_rate': 0.1\n",
    "    , 'objective': 'binary'\n",
    "    , 'is_unbalance': True\n",
    "    , 'min_split_gain': 0 \n",
    "    , 'min_sum_hessian_in_leaf': 1e-03\n",
    "    , 'min_child_samples': 20\n",
    "    , 'subsample': 1\n",
    "    , 'subsample_freq': 0\n",
    "    , 'colsample_bytree': 1\n",
    "    , 'reg_alpha': 0\n",
    "    , 'reg_lambda': 0\n",
    "    , 'n_jobs': -1\n",
    "    , 'random_state': 42\n",
    "#    , 'device': 'gpu'\n",
    "}"
   ]
  },
  {
   "cell_type": "code",
   "execution_count": null,
   "metadata": {},
   "outputs": [],
   "source": [
    "num_boost_round = 1000\n",
    "early_stopping_rounds = 10\n",
    "evals_result = {}\n",
    "lgb_clf = lgb.train(params, lgb_dtrain, num_boost_round=num_boost_round, valid_sets=[lgb_dtrain, lgb_dvalid], \n",
    "                    valid_names=['train', 'valid'], early_stopping_rounds=early_stopping_rounds, \n",
    "                    evals_result=evals_result, verbose_eval=0)"
   ]
  },
  {
   "cell_type": "code",
   "execution_count": null,
   "metadata": {},
   "outputs": [],
   "source": [
    "import boto3\n",
    "import sagemaker\n",
    "\n",
    "\n",
    "region = boto3.Session().region_name\n",
    "sagemaker_session = sagemaker.session.Session()\n",
    "role = 'AmazonSageMaker-ExecutionRole-20210114T163887' # sagemaker.get_execution_role()\n",
    "default_bucket = sagemaker_session.default_bucket()"
   ]
  },
  {
   "cell_type": "code",
   "execution_count": null,
   "metadata": {},
   "outputs": [],
   "source": [
    "s3 = boto3.resource('s3')\n",
    "\n",
    "base_uri = f\"s3://{default_bucket}/ieee-fraud-detection\"\n",
    "input_data_uri = sagemaker.s3.S3Uploader.upload(\n",
    "    local_path=DATA_DIR, \n",
    "    desired_s3_uri=base_uri,\n",
    ")\n",
    "print(input_data_uri)"
   ]
  },
  {
   "cell_type": "code",
   "execution_count": null,
   "metadata": {},
   "outputs": [],
   "source": [
    "base_uri = f\"s3://{default_bucket}/ieee-fraud-detection/data\""
   ]
  },
  {
   "cell_type": "code",
   "execution_count": null,
   "metadata": {},
   "outputs": [],
   "source": [
    "def uploadDirectory(path,bucketname):\n",
    "    s3C = boto3.client('s3')\n",
    "    for root,dirs,files in os.walk(path):\n",
    "        for file in files:\n",
    "            s3C.upload_file(os.path.join(root,file),bucketname,file)"
   ]
  },
  {
   "cell_type": "code",
   "execution_count": null,
   "metadata": {},
   "outputs": [],
   "source": [
    "uploadDirectory(DATA_DIR, base_uri)"
   ]
  },
  {
   "cell_type": "code",
   "execution_count": null,
   "metadata": {},
   "outputs": [],
   "source": [
    "s3C = boto3.client('s3')"
   ]
  },
  {
   "cell_type": "code",
   "execution_count": null,
   "metadata": {},
   "outputs": [],
   "source": [
    "list(os.walk('../../../../Data'))"
   ]
  },
  {
   "cell_type": "code",
   "execution_count": null,
   "metadata": {},
   "outputs": [],
   "source": [
    "DATA_DIR"
   ]
  },
  {
   "cell_type": "code",
   "execution_count": null,
   "metadata": {},
   "outputs": [],
   "source": []
  }
 ],
 "metadata": {
  "kernelspec": {
   "display_name": "Python 3",
   "language": "python",
   "name": "python3"
  },
  "language_info": {
   "codemirror_mode": {
    "name": "ipython",
    "version": 3
   },
   "file_extension": ".py",
   "mimetype": "text/x-python",
   "name": "python",
   "nbconvert_exporter": "python",
   "pygments_lexer": "ipython3",
   "version": "3.8.5"
  }
 },
 "nbformat": 4,
 "nbformat_minor": 4
}
